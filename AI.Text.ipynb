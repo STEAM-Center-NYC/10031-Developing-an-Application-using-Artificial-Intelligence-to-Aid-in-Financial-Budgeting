{
 "cells": [
  {
   "cell_type": "code",
   "execution_count": 1,
   "metadata": {},
   "outputs": [
    {
     "name": "stderr",
     "output_type": "stream",
     "text": [
      "/Users/ECU/Library/Python/3.9/lib/python/site-packages/tqdm/auto.py:22: TqdmWarning: IProgress not found. Please update jupyter and ipywidgets. See https://ipywidgets.readthedocs.io/en/stable/user_install.html\n",
      "  from .autonotebook import tqdm as notebook_tqdm\n"
     ]
    }
   ],
   "source": [
    "from transformers import AutoTokenizer, AutoModelForCausalLM\n",
    "\n",
    "\n",
    "tokenizer = AutoTokenizer.from_pretrained(\"cerebras/Cerebras-GPT-2.7B\")\n",
    "model = AutoModelForCausalLM.from_pretrained(\"cerebras/Cerebras-GPT-2.7B\")\n",
    "\n",
    "\n"
   ]
  },
  {
   "cell_type": "code",
   "execution_count": 4,
   "metadata": {},
   "outputs": [
    {
     "name": "stderr",
     "output_type": "stream",
     "text": [
      "Setting `pad_token_id` to `eos_token_id`:50256 for open-end generation.\n"
     ]
    },
    {
     "name": "stdout",
     "output_type": "stream",
     "text": [
      "hello>\n",
      "  </div>\n",
      "\n",
      "  <div class=\"col-xs-12 col-sm-6 col\">\n",
      "\t\t<p>Lorem ipsum dolor sit amet, consectetur adipiscing elit\n"
     ]
    }
   ],
   "source": [
    "text = input(\"\")\n",
    "\n",
    "inputs = tokenizer(text, return_tensors=\"pt\")\n",
    "outputs = model.generate(**inputs, num_beams=5, \n",
    "                        max_new_tokens=50, early_stopping=True,\n",
    "                        no_repeat_ngram_size=2)\n",
    "text_output = tokenizer.batch_decode(outputs, skip_special_tokens=True)\n",
    "print(text_output[0])"
   ]
  },
  {
   "cell_type": "code",
   "execution_count": 5,
   "metadata": {},
   "outputs": [
    {
     "name": "stderr",
     "output_type": "stream",
     "text": [
      "Setting `pad_token_id` to `eos_token_id`:50256 for open-end generation.\n"
     ]
    },
    {
     "name": "stdout",
     "output_type": "stream",
     "text": [
      "How Should I spend my money?\n",
      "\n",
      "The first thing you should do is to make sure that you have a good understanding of your budget. You should know how much you can afford to spend on your home, car, and other expenses.\n",
      "If you are a first-time homebuyer, you may not have enough money to buy a home. If you do not know what your monthly expenses are, then you will not be able to determine how you could save money. It is important to know your expenses so that when you make a budget, it will be realistic. This will help you to be more efficient in your spending. The next thing to do when it comes to saving money is the best way to save. There are many ways to get money, but the most important thing is that it is a long-term investment. Saving money for a short period of time will only be a waste of money and you might not get the return you want. So, the next step\n"
     ]
    }
   ],
   "source": [
    "from transformers import pipeline\n",
    "\n",
    "text = \"How Should I spend my money?\"\n",
    "\n",
    "pipe = pipeline(\"text-generation\", model=model, tokenizer=tokenizer)\n",
    "generated_text = pipe(text, max_length=200, do_sample=False, no_repeat_ngram_size=2)[0]\n",
    "print(generated_text['generated_text'])"
   ]
  }
 ],
 "metadata": {
  "kernelspec": {
   "display_name": "Python 3",
   "language": "python",
   "name": "python3"
  },
  "language_info": {
   "codemirror_mode": {
    "name": "ipython",
    "version": 3
   },
   "file_extension": ".py",
   "mimetype": "text/x-python",
   "name": "python",
   "nbconvert_exporter": "python",
   "pygments_lexer": "ipython3",
   "version": "3.9.6"
  },
  "orig_nbformat": 4,
  "vscode": {
   "interpreter": {
    "hash": "31f2aee4e71d21fbe5cf8b01ff0e069b9275f58929596ceb00d14d90e3e16cd6"
   }
  }
 },
 "nbformat": 4,
 "nbformat_minor": 2
}
