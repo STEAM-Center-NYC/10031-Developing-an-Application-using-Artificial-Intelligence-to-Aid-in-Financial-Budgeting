{
 "cells": [
  {
   "cell_type": "code",
   "execution_count": 12,
   "metadata": {},
   "outputs": [],
   "source": [
    "from transformers import AutoTokenizer, AutoModelForCausalLM\n",
    "\n",
    "tokenizer = AutoTokenizer.from_pretrained(\"cerebras/Cerebras-GPT-2.7B\")\n",
    "model = AutoModelForCausalLM.from_pretrained(\"cerebras/Cerebras-GPT-2.7B\")\n",
    "\n",
    "\n",
    "\n"
   ]
  },
  {
   "cell_type": "code",
   "execution_count": 22,
   "metadata": {},
   "outputs": [
    {
     "name": "stderr",
     "output_type": "stream",
     "text": [
      "Setting `pad_token_id` to `eos_token_id`:50256 for open-end generation.\n"
     ]
    },
    {
     "name": "stdout",
     "output_type": "stream",
     "text": [
      "what is stocks and shares?\n",
      "\n",
      "The stock market is a market for buying and selling shares of companies. It is the largest market in the world, and it is also one of the most liquid markets. In the United States, stocks are traded on the New\n"
     ]
    }
   ],
   "source": [
    "text = input(\"\")\n",
    "\n",
    "inputs = tokenizer(text, return_tensors=\"pt\")\n",
    "outputs = model.generate(**inputs, num_beams=5, \n",
    "                        max_new_tokens=50, early_stopping=True,\n",
    "                        no_repeat_ngram_size=2)\n",
    "text_output = tokenizer.batch_decode(outputs, skip_special_tokens=True)\n",
    "print(text_output[0])"
   ]
  },
  {
   "cell_type": "code",
   "execution_count": 23,
   "metadata": {},
   "outputs": [
    {
     "name": "stderr",
     "output_type": "stream",
     "text": [
      "Setting `pad_token_id` to `eos_token_id`:50256 for open-end generation.\n"
     ]
    },
    {
     "name": "stdout",
     "output_type": "stream",
     "text": [
      "Summarize the 50/30/20 budgetting rule in a paragraph?\n",
      "\n",
      "A:\n",
      "  \n",
      "Budgeting is a process of estimating the cost of a project.  It is not a\n",
      "process of deciding how much money to spend on a particular project,\n",
      "but rather a way of determining how to allocate the money you have\n",
      "available to you.\n",
      "The 50% rule is the rule that says that you should spend 50 percent\n",
      "of your budget on the project you are working on. The other 50\n",
      "percent should be spent on other projects. This is called the\n",
      "\"50/50 rule.\"\n",
      "You can summarize the budgeting process in one sentence: \"I should\n",
      "spend 50 % of my budget (or my time) on this project.\"\n",
      "\n",
      "\n"
     ]
    }
   ],
   "source": [
    "from transformers import pipeline\n",
    "\n",
    "text = \"Summarize the 50/30/20 budgetting rule in a paragraph?\"\n",
    "\n",
    "pipe = pipeline(\"text-generation\", model=model, tokenizer=tokenizer)\n",
    "generated_text = pipe(text, max_length=200, do_sample=False, no_repeat_ngram_size=2)[0]\n",
    "print(generated_text['generated_text'])"
   ]
  }
 ],
 "metadata": {
  "kernelspec": {
   "display_name": "Python 3",
   "language": "python",
   "name": "python3"
  },
  "language_info": {
   "codemirror_mode": {
    "name": "ipython",
    "version": 3
   },
   "file_extension": ".py",
   "mimetype": "text/x-python",
   "name": "python",
   "nbconvert_exporter": "python",
   "pygments_lexer": "ipython3",
   "version": "3.9.6"
  },
  "orig_nbformat": 4,
  "vscode": {
   "interpreter": {
    "hash": "31f2aee4e71d21fbe5cf8b01ff0e069b9275f58929596ceb00d14d90e3e16cd6"
   }
  }
 },
 "nbformat": 4,
 "nbformat_minor": 2
}
